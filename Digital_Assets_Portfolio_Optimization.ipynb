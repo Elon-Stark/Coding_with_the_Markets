{
 "cells": [
  {
   "cell_type": "code",
   "execution_count": 21,
   "id": "405b32b6",
   "metadata": {},
   "outputs": [],
   "source": [
    "# Digital Assets Portfolio Optimization\n",
    "# Prepared by Nicolas on 27/08/2024\n",
    "\n",
    "# Executive Summary\n",
    "# This document outlines the methodology and results of constructing an optimized digital assets portfolio.\n",
    "# The portfolio includes native currencies from leading smart contract platforms, aiming to maximize returns\n",
    "# while managing risk through advanced statistical measures.\n",
    "\n",
    "# Portfolio Composition\n",
    "# The portfolio will consist of the following assets:\n",
    "# - Avalanche (AVAX)\n",
    "# - Ethereum (ETH)\n",
    "# - Solana (SOL)\n",
    "# - Polkadot (DOT)\n",
    "# - Aave (AAVE)\n",
    "# - Chainlink (LINK)\n",
    "# - Trader Joe (JOE)\n",
    "\n",
    "# Methodology\n",
    "# Return and Risk Assessment\n",
    "# - Returns Calculation: We will compute the historical returns of each asset.\n",
    "# - Volatility Measurement: The standard deviation of returns will be calculated to assess the volatility and risk associated with each asset.\n",
    "# - Correlation Analysis: We will examine the correlations between the assets to understand their interdependencies.\n",
    "\n",
    "# Sharpe Ratio Calculation\n",
    "# The Sharpe Ratio will be utilized to evaluate the risk-adjusted return of the portfolio.\n",
    "# A higher Sharpe Ratio indicates a more attractive risk-adjusted return.\n",
    "\n",
    "# Portfolio Simulation\n",
    "# We will conduct a Monte Carlo simulation with 12,000 different portfolio allocation combinations.\n",
    "# The objective is to identify the allocation that maximizes the Sharpe Ratio.\n",
    "\n",
    "# Conclusion\n",
    "# The optimal portfolio allocation will be selected based on the highest Sharpe Ratio,\n",
    "# providing a balanced approach to maximizing returns while minimizing risk.\n"
   ]
  },
  {
   "cell_type": "code",
   "execution_count": 22,
   "id": "a802c4ba",
   "metadata": {},
   "outputs": [],
   "source": [
    "# importing libraries\n",
    "import numpy as np\n",
    "import pandas as pd\n",
    "from matplotlib import pyplot as plt"
   ]
  },
  {
   "cell_type": "code",
   "execution_count": 25,
   "id": "bbcbadd5",
   "metadata": {},
   "outputs": [
    {
     "name": "stdout",
     "output_type": "stream",
     "text": [
      "Could not fetch URL https://pypi.org/simple/pandas-datareader/: There was a problem confirming the ssl certificate: HTTPSConnectionPool(host='pypi.org', port=443): Max retries exceeded with url: /simple/pandas-datareader/ (Caused by SSLError(SSLCertVerificationError(1, '[SSL: CERTIFICATE_VERIFY_FAILED] certificate verify failed: unable to get local issuer certificate (_ssl.c:997)'))) - skipping\n",
      "Could not fetch URL https://pypi.org/simple/pip/: There was a problem confirming the ssl certificate: HTTPSConnectionPool(host='pypi.org', port=443): Max retries exceeded with url: /simple/pip/ (Caused by SSLError(SSLCertVerificationError(1, '[SSL: CERTIFICATE_VERIFY_FAILED] certificate verify failed: unable to get local issuer certificate (_ssl.c:997)'))) - skipping\n",
      "Note: you may need to restart the kernel to use updated packages.\n"
     ]
    },
    {
     "name": "stderr",
     "output_type": "stream",
     "text": [
      "WARNING: Retrying (Retry(total=4, connect=None, read=None, redirect=None, status=None)) after connection broken by 'SSLError(SSLCertVerificationError(1, '[SSL: CERTIFICATE_VERIFY_FAILED] certificate verify failed: unable to get local issuer certificate (_ssl.c:997)'))': /simple/pandas-datareader/\n",
      "WARNING: Retrying (Retry(total=3, connect=None, read=None, redirect=None, status=None)) after connection broken by 'SSLError(SSLCertVerificationError(1, '[SSL: CERTIFICATE_VERIFY_FAILED] certificate verify failed: unable to get local issuer certificate (_ssl.c:997)'))': /simple/pandas-datareader/\n",
      "WARNING: Retrying (Retry(total=2, connect=None, read=None, redirect=None, status=None)) after connection broken by 'SSLError(SSLCertVerificationError(1, '[SSL: CERTIFICATE_VERIFY_FAILED] certificate verify failed: unable to get local issuer certificate (_ssl.c:997)'))': /simple/pandas-datareader/\n",
      "WARNING: Retrying (Retry(total=1, connect=None, read=None, redirect=None, status=None)) after connection broken by 'SSLError(SSLCertVerificationError(1, '[SSL: CERTIFICATE_VERIFY_FAILED] certificate verify failed: unable to get local issuer certificate (_ssl.c:997)'))': /simple/pandas-datareader/\n",
      "WARNING: Retrying (Retry(total=0, connect=None, read=None, redirect=None, status=None)) after connection broken by 'SSLError(SSLCertVerificationError(1, '[SSL: CERTIFICATE_VERIFY_FAILED] certificate verify failed: unable to get local issuer certificate (_ssl.c:997)'))': /simple/pandas-datareader/\n",
      "ERROR: Could not find a version that satisfies the requirement pandas_datareader (from versions: none)\n",
      "ERROR: No matching distribution found for pandas_datareader\n",
      "WARNING: There was an error checking the latest version of pip.\n"
     ]
    }
   ],
   "source": [
    "pip install pandas_datareader\n"
   ]
  },
  {
   "cell_type": "code",
   "execution_count": 26,
   "id": "27007786",
   "metadata": {},
   "outputs": [
    {
     "ename": "ModuleNotFoundError",
     "evalue": "No module named 'pandas_datareader'",
     "output_type": "error",
     "traceback": [
      "\u001b[1;31m---------------------------------------------------------------------------\u001b[0m",
      "\u001b[1;31mModuleNotFoundError\u001b[0m                       Traceback (most recent call last)",
      "Cell \u001b[1;32mIn[26], line 1\u001b[0m\n\u001b[1;32m----> 1\u001b[0m \u001b[38;5;28;01mimport\u001b[39;00m \u001b[38;5;21;01mpandas_datareader\u001b[39;00m \u001b[38;5;28;01mas\u001b[39;00m \u001b[38;5;21;01mpdr\u001b[39;00m\n",
      "\u001b[1;31mModuleNotFoundError\u001b[0m: No module named 'pandas_datareader'"
     ]
    }
   ],
   "source": [
    "import pandas_datareader as pdr\n"
   ]
  },
  {
   "cell_type": "code",
   "execution_count": null,
   "id": "71440a5f",
   "metadata": {},
   "outputs": [],
   "source": [
    "# creating a dataframe\n",
    "my_portfolio = pd.DataFrame()"
   ]
  },
  {
   "cell_type": "code",
   "execution_count": null,
   "id": "28d4bedf",
   "metadata": {},
   "outputs": [],
   "source": [
    "# getting the data\n",
    "\n",
    "tickers = ['AVAX-USD', 'ETH-USD', 'SOL-USD', 'AAVE-USD', 'LINK-USD', 'JOE-USD']\n",
    "start_date = '2022-08-27'\n",
    "end_date = '2021-08-27'\n",
    "\n",
    "my_portfolio = pdr.get_data_yahoo(tickers, start_date, end_date)"
   ]
  },
  {
   "cell_type": "code",
   "execution_count": null,
   "id": "820ba6e0",
   "metadata": {},
   "outputs": [],
   "source": [
    "# we will mostly use the closing prices\n",
    "my_portfolio['Close'].tail(3)"
   ]
  },
  {
   "cell_type": "code",
   "execution_count": null,
   "id": "cda0d46d",
   "metadata": {},
   "outputs": [],
   "source": [
    "# calculating the mean daily return\n",
    "my_portfolio['Close'].pct_change(1).mean()"
   ]
  },
  {
   "cell_type": "code",
   "execution_count": null,
   "id": "8d15f4d5",
   "metadata": {},
   "outputs": [],
   "source": [
    "# checking correlations\n",
    "my_portfolio['Close'].pct_change(1).corr()"
   ]
  },
  {
   "cell_type": "code",
   "execution_count": null,
   "id": "55eecbe9",
   "metadata": {},
   "outputs": [],
   "source": [
    "# checking correlations\n",
    "my_portfolio['Close'].pct_change(1).corr()"
   ]
  },
  {
   "cell_type": "code",
   "execution_count": null,
   "id": "e764b97f",
   "metadata": {},
   "outputs": [],
   "source": [
    "# we will now use log returns\n",
    "log_return = np.log(my_portfolio['Close']/my_portfolio['Close'].shift(1))\n",
    "log_return"
   ]
  },
  {
   "cell_type": "code",
   "execution_count": null,
   "id": "5127a28e",
   "metadata": {},
   "outputs": [],
   "source": [
    "# calculating yearly co-variance of log returns\n",
    "log_return.cov()*365"
   ]
  },
  {
   "cell_type": "code",
   "execution_count": null,
   "id": "592d9fb8",
   "metadata": {},
   "outputs": [],
   "source": [
    "# Let's now put in some allocation weights and run 10,000 different possible combinations of this portfolio\n",
    "\n",
    "# setting seed\n",
    "np.random.seed(101)\n",
    "\n",
    "num_of_simulations = 10000\n",
    "all_weights = np.zeros((num_of_simulations, len(tickers)))\n",
    "returns_arr = np.zeros(num_of_simulations)\n",
    "volatility_arr = np.zeros(num_of_simulations)\n",
    "sharpe_arr = np.zeros(num_of_simulations)\n",
    "\n",
    "\n",
    "# creating a loop to run 12,000 different allocation combinations \n",
    "for index in range(num_of_simulations):\n",
    "    \n",
    "    # weights\n",
    "    weights = np.array(np.random.random(6))\n",
    "    weights = weights/np.sum(weights)\n",
    "    \n",
    "    # save the weights\n",
    "    all_weights[index, :] = weights\n",
    "\n",
    "    # calculating yearly expected portfolio return\n",
    "    returns_arr[index] = np.sum(log_return.mean()*weights *365)\n",
    "\n",
    "    # calculating yearly expected volatility\n",
    "    volatility_arr[index] = np.sqrt(np.dot(weights.T, np.dot (log_return.cov()*365, weights)))\n",
    "\n",
    "    # Sharpe Ratio\n",
    "    sharpe_arr[index] = returns_arr[index] / volatility_arr[index]"
   ]
  },
  {
   "cell_type": "code",
   "execution_count": null,
   "id": "09a18646",
   "metadata": {},
   "outputs": [],
   "source": [
    "# finding the max return\n",
    "sharpe_arr.max()"
   ]
  },
  {
   "cell_type": "code",
   "execution_count": null,
   "id": "5f6000be",
   "metadata": {},
   "outputs": [],
   "source": [
    "# finding the location of that max sharpe\n",
    "sharpe_arr.argmax()"
   ]
  },
  {
   "cell_type": "code",
   "execution_count": null,
   "id": "5a8bf3a4",
   "metadata": {},
   "outputs": [],
   "source": [
    "# using the index location to check the optimal allocations \n",
    "all_weights[3656, :]"
   ]
  },
  {
   "cell_type": "code",
   "execution_count": 27,
   "id": "29b8172a",
   "metadata": {},
   "outputs": [],
   "source": [
    "max_return = returns_arr[3656]\n",
    "max_volatility = volatility_arr[3656]"
   ]
  },
  {
   "cell_type": "code",
   "execution_count": 28,
   "id": "880df4f3",
   "metadata": {},
   "outputs": [
    {
     "data": {
      "image/png": "[encoded data removed]",
      "text/plain": [
       "<Figure size 1600x800 with 2 Axes>"
      ]
     },
     "metadata": {},
     "output_type": "display_data"
    }
   ],
   "source": [
    "plt.figure(figsize=(16, 8));\n",
    "plt.scatter(volatility_arr, returns_arr, c=sharpe_arr, cmap='plasma');\n",
    "plt.colorbar(label = 'Sharpe Ratio');\n",
    "plt.xlabel('Volatility');\n",
    "plt.ylabel('Return');\n",
    "\n",
    "# grabbing the max sharpe ratio (will plot as a red dot)\n",
    "plt.scatter(max_volatility, max_return, c='red', s=50, edgecolors='black');"
   ]
  },
  {
   "cell_type": "code",
   "execution_count": null,
   "id": "8d295015",
   "metadata": {},
   "outputs": [],
   "source": [
    "# Conclusion:\n",
    "# The allocation combination with the highest sharpe ratio:\n",
    "# Cardano (ADA): 19.61%\n",
    "# Ethereum (ETH): 43.03%\n",
    "# Algorand (ALGO): 0.10%\n",
    "# Zilliqa (ZIL): 2.32%\n",
    "# Hedera (HBAR): 11.35%\n",
    "# Solana(SOL): 23.56%\n",
    "\n",
    "# Although at the end of the day allocation will always depend on the risk tolerance of each individual\n",
    "# The above allocation is considered one with a high return and a relatively low risk"
   ]
  }
 ],
 "metadata": {
  "kernelspec": {
   "display_name": "Python 3 (ipykernel)",
   "language": "python",
   "name": "python3"
  },
  "language_info": {
   "codemirror_mode": {
    "name": "ipython",
    "version": 3
   },
   "file_extension": ".py",
   "mimetype": "text/x-python",
   "name": "python",
   "nbconvert_exporter": "python",
   "pygments_lexer": "ipython3",
   "version": "3.10.9"
  }
 },
 "nbformat": 4,
 "nbformat_minor": 5
}
